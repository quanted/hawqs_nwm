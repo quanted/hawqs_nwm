{
 "cells": [
  {
   "cell_type": "code",
   "execution_count": 1,
   "id": "6b0a33af-71f3-4e32-b77f-1cce9587f038",
   "metadata": {},
   "outputs": [],
   "source": [
    "from dask.distributed import Client, LocalCluster\n",
    "from nwm import NWM\n",
    "from tqdm import tqdm\n",
    "import pandas as pd\n",
    "import os\n",
    "import sys\n",
    "import logging"
   ]
  },
  {
   "cell_type": "code",
   "execution_count": 2,
   "id": "c2805164-e645-4c03-b9c6-9f8dd977cbc1",
   "metadata": {},
   "outputs": [],
   "source": [
    "start_date = \"2000-01-01\"\n",
    "end_date = \"2005-12-31\"\n",
    "# comids = [6080293, 6163267]\n",
    "comids = [1726313, 3325726]"
   ]
  },
  {
   "cell_type": "code",
   "execution_count": 3,
   "id": "9b67ba39-4a87-41c5-827d-a6fc55dc0a03",
   "metadata": {},
   "outputs": [],
   "source": [
    "scheduler = LocalCluster(n_workers=10, threads_per_worker=2, processes=False)"
   ]
  },
  {
   "cell_type": "code",
   "execution_count": 4,
   "id": "413934f2-848e-4272-b9f7-117d631256cb",
   "metadata": {},
   "outputs": [],
   "source": [
    "nwm = NWM(start_date=start_date, end_date=end_date, scheduler=scheduler, comids=comids)\n",
    "logging.basicConfig(format='%(asctime)s | %(levelname)s : %(message)s', level=logging.INFO, stream=sys.stdout)"
   ]
  },
  {
   "cell_type": "code",
   "execution_count": 5,
   "id": "f3651654-eece-4bad-87e3-d06224dd59fe",
   "metadata": {},
   "outputs": [
    {
     "name": "stdout",
     "output_type": "stream",
     "text": [
      "2023-01-18 13:31:20,713 | INFO : Requesting NWM URL: s3://noaa-nwm-retrospective-2-1-zarr-pds/chrtout.zarr\n",
      "2023-01-18 13:31:20,717 | INFO : COMIDS: [1726313, 3325726]\n",
      "2023-01-18 13:32:02,807 | INFO : Checking if COMIDS are available from NWM...\n",
      "2023-01-18 13:32:03,395 | INFO : Opened connection to zarr data store. Runtime: 42.68 sec(s)\n",
      "2023-01-18 13:33:54,887 | INFO : full garbage collection released 225.66 MiB from 1390 reference cycles (threshold: 9.54 MiB)\n",
      "2023-01-18 13:34:43,551 | INFO : Data download complete. Runtime: 2.67 min(s)\n",
      "2023-01-18 13:34:43,576 | INFO : Data converted to dataframe. Runtime: 0.02 sec(s)\n"
     ]
    }
   ],
   "source": [
    "nwm.get()"
   ]
  },
  {
   "cell_type": "code",
   "execution_count": 6,
   "id": "ac4e0a65-3e38-44e1-adfb-a8cf7d63f6a3",
   "metadata": {},
   "outputs": [
    {
     "name": "stdout",
     "output_type": "stream",
     "text": [
      "2023-01-18 13:34:43,616 | INFO : Uploading hdf5 files to s3 bucket\n",
      "2023-01-18 13:34:43,967 | INFO : Found credentials in shared credentials file: ~/.aws/credentials\n",
      "2023-01-18 13:34:46,075 | INFO : Completed COMID file 1726313.h5 upload to nwm/1726313.h5\n",
      "2023-01-18 13:34:47,755 | INFO : Completed COMID file 3325726.h5 upload to nwm/3325726.h5\n"
     ]
    }
   ],
   "source": [
    "nwm.upload()"
   ]
  },
  {
   "cell_type": "code",
   "execution_count": 7,
   "id": "05fdf0a0-e2e7-4966-aa5e-fc353488068b",
   "metadata": {},
   "outputs": [
    {
     "data": {
      "text/plain": [
       "[1726313, 3325726]"
      ]
     },
     "execution_count": 7,
     "metadata": {},
     "output_type": "execute_result"
    }
   ],
   "source": [
    "comid_list = nwm.data.index.unique(level=1).to_list()\n",
    "comid_list"
   ]
  },
  {
   "cell_type": "code",
   "execution_count": null,
   "id": "18b64876-8b76-45b8-87f6-86f226785bb4",
   "metadata": {},
   "outputs": [],
   "source": []
  },
  {
   "cell_type": "code",
   "execution_count": null,
   "id": "0d94a711-21f2-4fd7-b30f-fda9adaad2c6",
   "metadata": {},
   "outputs": [],
   "source": []
  }
 ],
 "metadata": {
  "kernelspec": {
   "display_name": "Python 3 (ipykernel)",
   "language": "python",
   "name": "python3"
  },
  "language_info": {
   "codemirror_mode": {
    "name": "ipython",
    "version": 3
   },
   "file_extension": ".py",
   "mimetype": "text/x-python",
   "name": "python",
   "nbconvert_exporter": "python",
   "pygments_lexer": "ipython3",
   "version": "3.10.8"
  }
 },
 "nbformat": 4,
 "nbformat_minor": 5
}
